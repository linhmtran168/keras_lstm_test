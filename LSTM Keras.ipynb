{
 "cells": [
  {
   "cell_type": "markdown",
   "metadata": {},
   "source": [
    "# Training model"
   ]
  },
  {
   "cell_type": "code",
   "execution_count": 2,
   "metadata": {
    "collapsed": false
   },
   "outputs": [
    {
     "name": "stdout",
     "output_type": "stream",
     "text": [
      "Total Characters:  684767\n",
      "Total Vocab:  51\n",
      "Total Patterns:  684667\n",
      "Epoch 1/5\n",
      "684544/684667 [============================>.] - ETA: 0s - loss: 2.8534Epoch 00000: loss improved from inf to 2.85335, saving model to weights-improvement-00-2.8534.hdf5\n",
      "684667/684667 [==============================] - 687s - loss: 2.8534   \n",
      "Epoch 2/5\n",
      "684544/684667 [============================>.] - ETA: 0s - loss: 2.6771Epoch 00001: loss improved from 2.85335 to 2.67713, saving model to weights-improvement-01-2.6771.hdf5\n",
      "684667/684667 [==============================] - 684s - loss: 2.6771   \n",
      "Epoch 3/5\n",
      "684544/684667 [============================>.] - ETA: 0s - loss: 2.5402Epoch 00002: loss improved from 2.67713 to 2.54018, saving model to weights-improvement-02-2.5402.hdf5\n",
      "684667/684667 [==============================] - 682s - loss: 2.5402   \n",
      "Epoch 4/5\n",
      "684544/684667 [============================>.] - ETA: 0s - loss: 2.4162Epoch 00003: loss improved from 2.54018 to 2.41619, saving model to weights-improvement-03-2.4162.hdf5\n",
      "684667/684667 [==============================] - 682s - loss: 2.4162   \n",
      "Epoch 5/5\n",
      "684544/684667 [============================>.] - ETA: 0s - loss: 2.3243Epoch 00004: loss improved from 2.41619 to 2.32428, saving model to weights-improvement-04-2.3243.hdf5\n",
      "684667/684667 [==============================] - 682s - loss: 2.3243   \n"
     ]
    },
    {
     "data": {
      "text/plain": [
       "<keras.callbacks.History at 0x7f7f446e9860>"
      ]
     },
     "execution_count": 2,
     "metadata": {},
     "output_type": "execute_result"
    }
   ],
   "source": [
    "import numpy as np\n",
    "from keras.models import Sequential\n",
    "from keras.layers import Dense\n",
    "from keras.layers import Dropout\n",
    "from keras.layers import LSTM\n",
    "from keras.callbacks import ModelCheckpoint\n",
    "from keras.utils import np_utils\n",
    "# load ascii text and covert to lowercase\n",
    "filename = \"pride_and_prejudice.txt\"\n",
    "raw_text = open(filename).read()\n",
    "raw_text = raw_text.lower()\n",
    "\n",
    "# create mapping of unique chars to integers\n",
    "chars = sorted(list(set(raw_text)))\n",
    "char_to_int = dict((c, i) for i, c in enumerate(chars))\n",
    "\n",
    "# summarize the loaded data\n",
    "n_chars = len(raw_text)\n",
    "n_vocab = len(chars)\n",
    "print(\"Total Characters: \", n_chars)\n",
    "print( \"Total Vocab: \", n_vocab)\n",
    "\n",
    "# prepare the dataset of input to output pairs encoded as integers\n",
    "seq_length = 100\n",
    "dataX = []\n",
    "dataY = []\n",
    "for i in range(0, n_chars - seq_length, 1):\n",
    "    seq_in = raw_text[i:i + seq_length]\n",
    "    seq_out = raw_text[i + seq_length]\n",
    "    dataX.append([char_to_int[char] for char in seq_in])\n",
    "    dataY.append(char_to_int[seq_out])\n",
    "n_patterns = len(dataX)\n",
    "print(\"Total Patterns: \", n_patterns)\n",
    "\n",
    "# reshape X to be [samples, time steps, features]\n",
    "X = np.reshape(dataX, (n_patterns, seq_length, 1))\n",
    "\n",
    "# normalize\n",
    "X = X / float(n_vocab)\n",
    "\n",
    "# one hot encode the output variable\n",
    "y = np_utils.to_categorical(dataY)\n",
    "# define the LSTM model\n",
    "model = Sequential()\n",
    "model.add(LSTM(256, input_shape=(X.shape[1], X.shape[2])))\n",
    "model.add(Dropout(0.2))\n",
    "model.add(Dense(y.shape[1], activation='softmax'))\n",
    "model.compile(loss='categorical_crossentropy', optimizer='adam')\n",
    "\n",
    "# define the checkpoint\n",
    "filepath=\"weights-improvement-{epoch:02d}-{loss:.4f}.hdf5\"\n",
    "checkpoint = ModelCheckpoint(filepath, monitor='loss', verbose=1, save_best_only=True, mode='min')\n",
    "callbacks_list = [checkpoint]\n",
    "# fit the model\n",
    "model.fit(X, y, epochs=5, batch_size=256, callbacks=callbacks_list)"
   ]
  },
  {
   "cell_type": "markdown",
   "metadata": {},
   "source": [
    "# Generate text using model"
   ]
  },
  {
   "cell_type": "code",
   "execution_count": 5,
   "metadata": {
    "collapsed": false
   },
   "outputs": [
    {
     "name": "stdout",
     "output_type": "stream",
     "text": [
      "Seed:\n",
      "\" decision\n",
      "in which she remained as to the extent of what she should communicate;\n",
      "and her fear, if she \"\n",
      " would nave an anl the horeertenn of the sooe, and the would nave an anl the horeertenn of the sooe, and the would nave an anl the horeertenn of the sooe, and the would nave an anl the horeertenn of the sooe, and the would nave an anl the horeertenn of the sooe, and the would nave an anl the horeertenn of the sooe, and the would nave an anl the horeertenn of the sooe, and the would nave an anl the horeertenn of the sooe, and the would nave an anl the horeertenn of the sooe, and the would nave an anl the horeertenn of the sooe, and the would nave an anl the horeertenn of the sooe, and the would nave an anl the horeertenn of the sooe, and the would nave an anl the horeertenn of the sooe, and the would nave an anl the horeertenn of the sooe, and the would nave an anl the horeertenn of the sooe, and the would nave an anl the horeertenn of the sooe, and the would nave an anl the horeertenn of the sooe, and the would nave an anl the horeertenn of the sooe, and the would nave an anl the horee\n",
      "Done.\n"
     ]
    }
   ],
   "source": [
    "import sys\n",
    "#In case there is already a trained model saved, can load the model from file\n",
    "#model = Sequential()\n",
    "#model.add(LSTM(256, input_shape=(X.shape[1], X.shape[2])))\n",
    "#model.add(Dropout(0.2))\n",
    "#model.add(Dense(y.shape[1], activation='softmax'))\n",
    "# load the network weights\n",
    "#filename = \"weights-improvement-19-1.9435.hdf5\"\n",
    "#model.load_weights(filename)\n",
    "#model.compile(loss='categorical_crossentropy', optimizer='adam')\n",
    "\n",
    "# create mapping of integers to unique chars\n",
    "int_to_char = dict((i, c) for i, c in enumerate(chars))\n",
    "# pick a random seed\n",
    "start = np.random.randint(0, len(dataX)-1)\n",
    "pattern = dataX[start]\n",
    "print(\"Seed:\")\n",
    "print( \"\\\"\", ''.join([int_to_char[value] for value in pattern]), \"\\\"\")\n",
    "\n",
    "# generate characters\n",
    "for i in range(1000):\n",
    "    x = np.reshape(pattern, (1, len(pattern), 1))\n",
    "    x = x / float(n_vocab)\n",
    "    prediction = model.predict(x, verbose=0)\n",
    "    index = np.argmax(prediction)\n",
    "    result = int_to_char[index]\n",
    "    seq_in = [int_to_char[value] for value in pattern]\n",
    "    sys.stdout.write(result)\n",
    "    pattern.append(index)\n",
    "    pattern = pattern[1:len(pattern)]\n",
    "    \n",
    "print(\"\\nDone.\")"
   ]
  }
 ],
 "metadata": {
  "anaconda-cloud": {},
  "kernelspec": {
   "display_name": "Python [default]",
   "language": "python",
   "name": "python3"
  },
  "language_info": {
   "codemirror_mode": {
    "name": "ipython",
    "version": 3
   },
   "file_extension": ".py",
   "mimetype": "text/x-python",
   "name": "python",
   "nbconvert_exporter": "python",
   "pygments_lexer": "ipython3",
   "version": "3.5.2"
  }
 },
 "nbformat": 4,
 "nbformat_minor": 2
}
